{
 "cells": [
  {
   "cell_type": "code",
   "execution_count": null,
   "metadata": {},
   "outputs": [],
   "source": [
    "import instaloader\n",
    "\n",
    "import time\n",
    "import random\n",
    "\n",
    "def random_delay():\n",
    "    time.sleep(random.uniform(2, 10))  # Random delay between 2 and 10 seconds\n",
    "\n",
    "\n",
    "L = instaloader.Instaloader()\n",
    "random_delay()\n",
    "\n",
    "users = str(input(\"Enter Your Instagram Username to Login:\"))\n",
    "password = str(input(\"Enter your password\"))\n",
    "\n",
    "try:\n",
    "    L.login(users, password)\n",
    "except:\n",
    "     print(\"Username orPassword Incorrect\")"
   ]
  },
  {
   "cell_type": "code",
   "execution_count": null,
   "metadata": {},
   "outputs": [],
   "source": [
    "# Printing Basic Information\n",
    "\n",
    "username = str(input(\"Enter an instagram account\"))\n",
    "profile = instaloader.Profile.from_username(L.context, username)\n",
    "random_delay()\n",
    "\n",
    "print(f\"Username: {profile.username}\")\n",
    "print(f\"Followers: {profile.followers}\")\n",
    "print(f\"Following: {profile.followees}\")\n",
    "print(f\"Posts: {profile.mediacount}\")\n",
    "print(f\"Biography: {profile.biography}\")"
   ]
  },
  {
   "cell_type": "code",
   "execution_count": null,
   "metadata": {},
   "outputs": [],
   "source": [
    "from datetime import datetime, timedelta\n",
    "\n",
    "now = datetime.now()\n",
    "one_month_prior = now - timedelta(days=30)\n",
    "total_likes = 0\n",
    "total_posts = 0\n",
    "\n",
    "for post in profile.get_posts():\n",
    "    if post.date_utc >= one_month_prior:\n",
    "        total_posts += 1\n",
    "        total_likes += post.likes\n",
    "\n",
    "print(f\"In the past one month, the user has posted {total_posts} posts, and received {total_likes} likes\")"
   ]
  },
  {
   "cell_type": "code",
   "execution_count": null,
   "metadata": {},
   "outputs": [],
   "source": [
    "usernamess = [\"shakira\", \"gigihadid\", \"snoopdogg\", \"davidbeckham\", \"shraddhakapoor\"]\n",
    "\n",
    "now = datetime.now()\n",
    "sixty_days = timedelta(days=60)\n",
    "sixty_days_ago = now - sixty_days\n",
    "\n",
    "for username in usernamess:\n",
    "\n",
    "    posts_count = 0\n",
    "    hashtags_count = 0\n",
    "    hashtags_dict = {}\n",
    "\n",
    "    profile = instaloader.Profile.from_username(L.context, username)\n",
    "    max_pin_count = 0\n",
    "\n",
    "    for post in profile.get_posts():\n",
    "\n",
    "        random_delay()\n",
    "\n",
    "        if max_pin_count > 3:\n",
    "            break\n",
    "\n",
    "        if post.date_utc < sixty_days_ago:\n",
    "            max_pin_count += 1\n",
    "            continue\n",
    "\n",
    "        hashtags = post.caption_hashtags\n",
    "        posts_count += 1\n",
    "        hashtags_count += len(hashtags)\n",
    "        for hashtag in hashtags:\n",
    "            if hashtag not in hashtags_dict.keys():\n",
    "                hashtags_dict.update({hashtag : 1})\n",
    "            else:\n",
    "                hashtags_dict[hashtag] += 1\n",
    "\n",
    "\n",
    "    try:\n",
    "        average_hashtags = hashtags_count/posts_count\n",
    "        print(f\"Average Hastags : {average_hashtags}, Hashtags Dictionary: {hashtags_dict}\")\n",
    "        print(f\"Posts Count: {posts_count} Username: {username}\")\n",
    "    except:\n",
    "        print('Num of hashtags, or posts invalid')"
   ]
  }
 ],
 "metadata": {
  "kernelspec": {
   "display_name": "Python 3",
   "language": "python",
   "name": "python3"
  },
  "language_info": {
   "name": "python",
   "version": "3.12.0"
  }
 },
 "nbformat": 4,
 "nbformat_minor": 2
}
