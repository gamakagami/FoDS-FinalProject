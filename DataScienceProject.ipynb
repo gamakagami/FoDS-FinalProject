{
 "cells": [
  {
   "cell_type": "code",
   "execution_count": 31,
   "metadata": {},
   "outputs": [],
   "source": [
    "import instaloader\n",
    "\n",
    "import time\n",
    "import random\n",
    "\n",
    "def random_delay():\n",
    "    time.sleep(random.uniform(2, 10))  # Random delay between 2 and 10 seconds\n",
    "\n",
    "\n",
    "L = instaloader.Instaloader()\n",
    "random_delay()\n",
    "\n",
    "users = str(input(\"Enter Your Instagram Username to Login:\"))\n",
    "password = str(input(\"Enter your password\"))\n",
    "\n",
    "try:\n",
    "    L.login(users, password)\n",
    "except:\n",
    "     print(\"Username orPassword Incorrect\")"
   ]
  },
  {
   "cell_type": "code",
   "execution_count": 35,
   "metadata": {},
   "outputs": [
    {
     "name": "stdout",
     "output_type": "stream",
     "text": [
      "Username: pprxteam\n",
      "Followers: 339916\n",
      "Following: 528\n",
      "Posts: 2061\n",
      "Biography: 📍 🇸🇬 / 🇰🇷\n",
      "🎮 VALORANT\n",
      "🏆 #vctpacific ‘23, ‘24 S1 Champions\n",
      "📸 #wgaming \n",
      "🤝🏽 @youc1000water @pulsargg @dreamcoresg\n"
     ]
    }
   ],
   "source": [
    "# Printing Basic Information\n",
    "\n",
    "username = str(input(\"Enter an instagram account\"))\n",
    "profile = instaloader.Profile.from_username(L.context, username)\n",
    "random_delay()\n",
    "\n",
    "print(f\"Username: {profile.username}\")\n",
    "print(f\"Followers: {profile.followers}\")\n",
    "print(f\"Following: {profile.followees}\")\n",
    "print(f\"Posts: {profile.mediacount}\")\n",
    "print(f\"Biography: {profile.biography}\")"
   ]
  },
  {
   "cell_type": "code",
   "execution_count": 39,
   "metadata": {},
   "outputs": [
    {
     "name": "stdout",
     "output_type": "stream",
     "text": [
      "<built-in method count of list object at 0x00000210B1501700>\n"
     ]
    }
   ],
   "source": [
    "followers = []\n",
    "followees = []\n",
    "\n",
    "for follower in profile.get_followers():\n",
    "    followers.append(follower.username)\n",
    "    random_delay()\n",
    "\n",
    "for followee in profile.get_followees():\n",
    "    followees.append(followee.username)\n",
    "    random_delay()\n",
    "\n",
    "friends = list(set(followers) & set(followees))\n",
    "print(str(friends.count))"
   ]
  },
  {
   "cell_type": "code",
   "execution_count": 40,
   "metadata": {},
   "outputs": [
    {
     "name": "stdout",
     "output_type": "stream",
     "text": [
      "In the past one month, the user has posted 27 posts, and received 397412 likes\n"
     ]
    }
   ],
   "source": [
    "from datetime import datetime, timedelta\n",
    "\n",
    "now = datetime.now()\n",
    "one_month_prior = now - timedelta(days=30)\n",
    "total_likes = 0\n",
    "total_posts = 0\n",
    "\n",
    "for post in profile.get_posts():\n",
    "    if post.date_utc >= one_month_prior:\n",
    "        total_posts += 1\n",
    "        total_likes += post.likes\n",
    "\n",
    "print(f\"In the past one month, the user has posted {total_posts} posts, and received {total_likes} likes\")"
   ]
  }
 ],
 "metadata": {
  "kernelspec": {
   "display_name": "Python 3",
   "language": "python",
   "name": "python3"
  },
  "language_info": {
   "codemirror_mode": {
    "name": "ipython",
    "version": 3
   },
   "file_extension": ".py",
   "mimetype": "text/x-python",
   "name": "python",
   "nbconvert_exporter": "python",
   "pygments_lexer": "ipython3",
   "version": "3.12.0"
  }
 },
 "nbformat": 4,
 "nbformat_minor": 2
}
