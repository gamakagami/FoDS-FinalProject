{
 "cells": [
  {
   "cell_type": "code",
   "execution_count": 1,
   "metadata": {},
   "outputs": [],
   "source": [
    "import pandas as pd\n",
    "import numpy as np\n",
    "import matplotlib.pyplot as plt\n",
    "import seaborn as sns\n",
    "import ast\n",
    "plt.style.use('ggplot')\n",
    "pd.set_option('display.max_columns', 200)"
   ]
  },
  {
   "cell_type": "code",
   "execution_count": 2,
   "metadata": {},
   "outputs": [],
   "source": [
    "df = pd.read_csv('macro_global.csv', encoding='latin1')"
   ]
  },
  {
   "cell_type": "code",
   "execution_count": 9,
   "metadata": {},
   "outputs": [
    {
     "name": "stdout",
     "output_type": "stream",
     "text": [
      "(138, 12)\n"
     ]
    },
    {
     "data": {
      "text/html": [
       "<div>\n",
       "<style scoped>\n",
       "    .dataframe tbody tr th:only-of-type {\n",
       "        vertical-align: middle;\n",
       "    }\n",
       "\n",
       "    .dataframe tbody tr th {\n",
       "        vertical-align: top;\n",
       "    }\n",
       "\n",
       "    .dataframe thead th {\n",
       "        text-align: right;\n",
       "    }\n",
       "</style>\n",
       "<table border=\"1\" class=\"dataframe\">\n",
       "  <thead>\n",
       "    <tr style=\"text-align: right;\">\n",
       "      <th></th>\n",
       "      <th>Username</th>\n",
       "      <th>Followers</th>\n",
       "      <th>Average_Likes</th>\n",
       "      <th>Average_Comments</th>\n",
       "      <th>Average_Engagement_Rate</th>\n",
       "      <th>Engagement_Rate_(60_Days)</th>\n",
       "      <th>Posting_frequency_(last_60_days)</th>\n",
       "      <th>Posts_(image)</th>\n",
       "      <th>Posts_(videos)</th>\n",
       "      <th>Posts_(carousel)</th>\n",
       "      <th>Average_Hashtags_/_Post_(60_Days)</th>\n",
       "      <th>Hashtags_(dictionary)</th>\n",
       "    </tr>\n",
       "  </thead>\n",
       "  <tbody>\n",
       "    <tr>\n",
       "      <th>0</th>\n",
       "      <td>andriyasana</td>\n",
       "      <td>218468</td>\n",
       "      <td>6260.41</td>\n",
       "      <td>65.48</td>\n",
       "      <td>2.8997</td>\n",
       "      <td>1.5104</td>\n",
       "      <td>74</td>\n",
       "      <td>0</td>\n",
       "      <td>74</td>\n",
       "      <td>0</td>\n",
       "      <td>1.392</td>\n",
       "      <td>{'yollayuliana15': 51, 'yollayuliana': 51, 'ec...</td>\n",
       "    </tr>\n",
       "    <tr>\n",
       "      <th>1</th>\n",
       "      <td>1a.aurabd_</td>\n",
       "      <td>165436</td>\n",
       "      <td>313.86</td>\n",
       "      <td>4.71</td>\n",
       "      <td>0.1926</td>\n",
       "      <td>0.1312</td>\n",
       "      <td>1</td>\n",
       "      <td>0</td>\n",
       "      <td>1</td>\n",
       "      <td>0</td>\n",
       "      <td>0</td>\n",
       "      <td>{}</td>\n",
       "    </tr>\n",
       "    <tr>\n",
       "      <th>3</th>\n",
       "      <td>sherlyjessii</td>\n",
       "      <td>179537</td>\n",
       "      <td>1005.04</td>\n",
       "      <td>11.01</td>\n",
       "      <td>0.5659</td>\n",
       "      <td>0.2862</td>\n",
       "      <td>6</td>\n",
       "      <td>5</td>\n",
       "      <td>1</td>\n",
       "      <td>1</td>\n",
       "      <td>0</td>\n",
       "      <td>{}</td>\n",
       "    </tr>\n",
       "    <tr>\n",
       "      <th>4</th>\n",
       "      <td>fitriarasyidi</td>\n",
       "      <td>948482</td>\n",
       "      <td>21008.08</td>\n",
       "      <td>803.88</td>\n",
       "      <td>2.2997</td>\n",
       "      <td>3.2122</td>\n",
       "      <td>40</td>\n",
       "      <td>3</td>\n",
       "      <td>28</td>\n",
       "      <td>9</td>\n",
       "      <td>1.3</td>\n",
       "      <td>{'rumahtanggakumit': 14, 'kumitproject': 14, '...</td>\n",
       "    </tr>\n",
       "    <tr>\n",
       "      <th>5</th>\n",
       "      <td>dewwiew</td>\n",
       "      <td>123017</td>\n",
       "      <td>6343.21</td>\n",
       "      <td>43.83</td>\n",
       "      <td>5.1920</td>\n",
       "      <td>2.1932</td>\n",
       "      <td>5</td>\n",
       "      <td>0</td>\n",
       "      <td>2</td>\n",
       "      <td>3</td>\n",
       "      <td>1</td>\n",
       "      <td>{'instagram': 2, 'karnavalgarungwarangankepil'...</td>\n",
       "    </tr>\n",
       "  </tbody>\n",
       "</table>\n",
       "</div>"
      ],
      "text/plain": [
       "        Username  Followers  Average_Likes  Average_Comments  \\\n",
       "0    andriyasana     218468        6260.41             65.48   \n",
       "1     1a.aurabd_     165436         313.86              4.71   \n",
       "3   sherlyjessii     179537        1005.04             11.01   \n",
       "4  fitriarasyidi     948482       21008.08            803.88   \n",
       "5        dewwiew     123017        6343.21             43.83   \n",
       "\n",
       "   Average_Engagement_Rate  Engagement_Rate_(60_Days)  \\\n",
       "0                   2.8997                     1.5104   \n",
       "1                   0.1926                     0.1312   \n",
       "3                   0.5659                     0.2862   \n",
       "4                   2.2997                     3.2122   \n",
       "5                   5.1920                     2.1932   \n",
       "\n",
       "   Posting_frequency_(last_60_days)  Posts_(image)  Posts_(videos)  \\\n",
       "0                                74              0              74   \n",
       "1                                 1              0               1   \n",
       "3                                 6              5               1   \n",
       "4                                40              3              28   \n",
       "5                                 5              0               2   \n",
       "\n",
       "   Posts_(carousel) Average_Hashtags_/_Post_(60_Days)  \\\n",
       "0                 0                             1.392   \n",
       "1                 0                                 0   \n",
       "3                 1                                 0   \n",
       "4                 9                               1.3   \n",
       "5                 3                                 1   \n",
       "\n",
       "                               Hashtags_(dictionary)  \n",
       "0  {'yollayuliana15': 51, 'yollayuliana': 51, 'ec...  \n",
       "1                                                 {}  \n",
       "3                                                 {}  \n",
       "4  {'rumahtanggakumit': 14, 'kumitproject': 14, '...  \n",
       "5  {'instagram': 2, 'karnavalgarungwarangankepil'...  "
      ]
     },
     "execution_count": 9,
     "metadata": {},
     "output_type": "execute_result"
    }
   ],
   "source": [
    "print(df.shape)\n",
    "df.head()"
   ]
  },
  {
   "cell_type": "code",
   "execution_count": 6,
   "metadata": {},
   "outputs": [
    {
     "data": {
      "text/plain": [
       "Username                              object\n",
       "Followers                              int64\n",
       "Average_Likes                        float64\n",
       "Average_Comments                     float64\n",
       "Average_Engagement_Rate              float64\n",
       "Engagement_Rate_(60_Days)            float64\n",
       "Posting_frequency_(last_60_days)       int64\n",
       "Posts_(image)                          int64\n",
       "Posts_(videos)                         int64\n",
       "Posts_(carousel)                       int64\n",
       "Average_Hashtags_/_Post_(60_Days)     object\n",
       "Hashtags_(dictionary)                 object\n",
       "dtype: object"
      ]
     },
     "execution_count": 6,
     "metadata": {},
     "output_type": "execute_result"
    }
   ],
   "source": [
    "df.dtypes"
   ]
  },
  {
   "cell_type": "code",
   "execution_count": 5,
   "metadata": {},
   "outputs": [],
   "source": [
    "df.rename(columns=lambda x: x.strip().replace(' ', '_'), inplace=True)"
   ]
  },
  {
   "cell_type": "code",
   "execution_count": 7,
   "metadata": {},
   "outputs": [
    {
     "name": "stdout",
     "output_type": "stream",
     "text": [
      "Username                             0\n",
      "Followers                            0\n",
      "Average_Likes                        4\n",
      "Average_Comments                     4\n",
      "Average_Engagement_Rate              4\n",
      "Engagement_Rate_(60_Days)            0\n",
      "Posting_frequency_(last_60_days)     0\n",
      "Posts_(image)                        0\n",
      "Posts_(videos)                       0\n",
      "Posts_(carousel)                     0\n",
      "Average_Hashtags_/_Post_(60_Days)    0\n",
      "Hashtags_(dictionary)                0\n",
      "dtype: int64\n"
     ]
    }
   ],
   "source": [
    "print(df.isnull().sum())"
   ]
  },
  {
   "cell_type": "code",
   "execution_count": 8,
   "metadata": {},
   "outputs": [],
   "source": [
    "# Remove rows with missing values in the specified columns\n",
    "df = df.dropna(subset=['Average_Likes', 'Average_Comments', 'Average_Engagement_Rate'])"
   ]
  },
  {
   "cell_type": "code",
   "execution_count": 10,
   "metadata": {},
   "outputs": [],
   "source": [
    "df['Average_Hashtags_/_Post_(60_Days)'] = df['Average_Hashtags_/_Post_(60_Days)'].replace('-', 0)"
   ]
  },
  {
   "cell_type": "code",
   "execution_count": 11,
   "metadata": {},
   "outputs": [],
   "source": [
    "df['Average_Hashtags_/_Post_(60_Days)'] = df['Average_Hashtags_/_Post_(60_Days)'].replace('-', 0).astype(float)"
   ]
  },
  {
   "cell_type": "code",
   "execution_count": 12,
   "metadata": {},
   "outputs": [
    {
     "name": "stdout",
     "output_type": "stream",
     "text": [
      "Numeric Columns: Index(['Followers', 'Average_Likes', 'Average_Comments',\n",
      "       'Average_Engagement_Rate', 'Engagement_Rate_(60_Days)',\n",
      "       'Posting_frequency_(last_60_days)', 'Posts_(image)', 'Posts_(videos)',\n",
      "       'Posts_(carousel)', 'Average_Hashtags_/_Post_(60_Days)'],\n",
      "      dtype='object')\n",
      "Non-Numeric Columns: Index(['Username', 'Hashtags_(dictionary)'], dtype='object')\n"
     ]
    }
   ],
   "source": [
    "# Select numeric columns for outlier detection\n",
    "numeric_columns = df.select_dtypes(include=['float64', 'int64']).columns\n",
    "print(\"Numeric Columns:\", numeric_columns)\n",
    "\n",
    "# Non-numeric columns\n",
    "non_numeric_columns = df.select_dtypes(exclude=['float64', 'int64']).columns\n",
    "print(\"Non-Numeric Columns:\", non_numeric_columns)"
   ]
  },
  {
   "cell_type": "code",
   "execution_count": 13,
   "metadata": {},
   "outputs": [
    {
     "name": "stdout",
     "output_type": "stream",
     "text": [
      "Outliers in 'Followers':\n",
      "      Username  Followers\n",
      "126  atiikazzz    1188747\n",
      "-------\n",
      "Outliers in 'Average_Likes':\n",
      "               Username  Average_Likes\n",
      "20             ardya.th      127287.37\n",
      "22       monilinafamily       89801.29\n",
      "24             kenniro_       82076.86\n",
      "43            wuzu.clay      348532.61\n",
      "58         oyatillo6828      175808.12\n",
      "67      dextheorangecat       77305.54\n",
      "73           omar_nutro      349444.07\n",
      "108       jemaofficiall      245758.03\n",
      "122   nada_tarina_putri       81292.25\n",
      "123  waktunyauntukmakan       60065.52\n",
      "-------\n",
      "Outliers in 'Average_Comments':\n",
      "           Username  Average_Comments\n",
      "4     fitriarasyidi            803.88\n",
      "20         ardya.th            726.23\n",
      "22   monilinafamily            957.88\n",
      "26     robbymaulids            673.51\n",
      "73       omar_nutro           2077.04\n",
      "80        iansuteja            643.65\n",
      "108   jemaofficiall            579.72\n",
      "126       atiikazzz            573.15\n",
      "-------\n",
      "Outliers in 'Average_Engagement_Rate':\n",
      "            Username  Average_Engagement_Rate\n",
      "17      jonesdospy18                  17.3731\n",
      "20          ardya.th                  18.1352\n",
      "24          kenniro_                  19.5016\n",
      "30         louistim_                  22.4001\n",
      "34     hughchongqing                  33.3002\n",
      "43         wuzu.clay                  33.7718\n",
      "46           lessvlr                  17.3551\n",
      "47        loud_tuyz1                  17.6152\n",
      "58      oyatillo6828                  27.0062\n",
      "67   dextheorangecat                  42.0105\n",
      "73        omar_nutro                  34.0904\n",
      "75    spotifynoucamp                  35.2689\n",
      "99     kenjiganessha                  15.7978\n",
      "108    jemaofficiall                  46.1665\n",
      "116    fadhilmachmud                  23.7641\n",
      "120          amazmii                  21.3681\n",
      "131        kalalaa__                  30.5764\n",
      "140         jingggxd                  18.4629\n",
      "-------\n",
      "Outliers in 'Engagement_Rate_(60_Days)':\n",
      "              Username  Engagement_Rate_(60_Days)\n",
      "17        jonesdospy18                    26.7022\n",
      "30           louistim_                    42.9388\n",
      "34       hughchongqing                    45.8077\n",
      "43           wuzu.clay                    25.2409\n",
      "46             lessvlr                    37.9581\n",
      "72           faizsadad                    24.6438\n",
      "75      spotifynoucamp                    34.7092\n",
      "99       kenjiganessha                    35.5572\n",
      "105  larasati_nugrohoo                   130.5895\n",
      "108      jemaofficiall                    82.8465\n",
      "109  adeliazahraalvina                    36.5079\n",
      "110            isalkaf                    47.4114\n",
      "120            amazmii                    35.2228\n",
      "-------\n",
      "Outliers in 'Posting_frequency_(last_60_days)':\n",
      "               Username  Posting_frequency_(last_60_days)\n",
      "7     christinaimmanuel                               135\n",
      "31            njdmarlon                               368\n",
      "64             kaa_arie                               124\n",
      "74            njr.dsant                               307\n",
      "75       spotifynoucamp                               155\n",
      "84           lira_vaira                               303\n",
      "87         sahabatweton                               495\n",
      "93          wanitadaily                               264\n",
      "95        mamariareview                               125\n",
      "107  yudipermadiguntara                               193\n",
      "123  waktunyauntukmakan                               248\n",
      "-------\n",
      "Outliers in 'Posts_(image)':\n",
      "              Username  Posts_(image)\n",
      "23   marshanda_style99             24\n",
      "31           njdmarlon            235\n",
      "32   poorpumpersociety             26\n",
      "33     zzz.official.en             47\n",
      "61      2pac_thelegend             19\n",
      "62   oldschoolllhiphop              9\n",
      "65            taco1704             31\n",
      "68     hansenvendiagus             14\n",
      "74           njr.dsant            155\n",
      "75      spotifynoucamp             63\n",
      "84          lira_vaira            104\n",
      "86        erikaputreal              7\n",
      "87        sahabatweton             24\n",
      "91   arya.m.sinulingga             13\n",
      "94       mario_sonatha             20\n",
      "102     jonathanwongso              7\n",
      "110            isalkaf             10\n",
      "-------\n",
      "Outliers in 'Posts_(videos)':\n",
      "               Username  Posts_(videos)\n",
      "7     christinaimmanuel             134\n",
      "10         lovikabangun             109\n",
      "64             kaa_arie             124\n",
      "83        _tamasyajogja             107\n",
      "84           lira_vaira             198\n",
      "87         sahabatweton             471\n",
      "93          wanitadaily             123\n",
      "95        mamariareview             121\n",
      "107  yudipermadiguntara             193\n",
      "123  waktunyauntukmakan             247\n",
      "124         kawan_dapur             114\n",
      "-------\n",
      "Outliers in 'Posts_(carousel)':\n",
      "                 Username  Posts_(carousel)\n",
      "23      marshanda_style99                16\n",
      "31              njdmarlon                98\n",
      "33        zzz.official.en                23\n",
      "57   christiancruzfitness                59\n",
      "74              njr.dsant                48\n",
      "93            wanitadaily               137\n",
      "98            anggimarito                18\n",
      "102        jonathanwongso                17\n",
      "119            nonswilly_                20\n",
      "-------\n",
      "Outliers in 'Average_Hashtags_/_Post_(60_Days)':\n",
      "             Username  Average_Hashtags_/_Post_(60_Days)\n",
      "39        jknowles831                             10.517\n",
      "55       excaliblader                             29.400\n",
      "62  oldschoolllhiphop                             12.111\n",
      "65           taco1704                             15.484\n",
      "75     spotifynoucamp                             20.000\n",
      "92           marmyutt                             11.020\n",
      "95      mamariareview                              9.704\n",
      "-------\n"
     ]
    }
   ],
   "source": [
    "# Loop through numeric columns and calculate outliers using IQR\n",
    "for col in numeric_columns:\n",
    "    q1 = df[col].quantile(0.25)\n",
    "    q3 = df[col].quantile(0.75)\n",
    "    iqr = q3 - q1\n",
    "    lower_bound = q1 - 1.5 * iqr\n",
    "    upper_bound = q3 + 1.5 * iqr\n",
    "\n",
    "    # Detect outliers\n",
    "    outliers = df[(df[col] < lower_bound) | (df[col] > upper_bound)]\n",
    "    print(f\"Outliers in '{col}':\")\n",
    "    print(outliers[['Username', col]])  # Print relevant columns for context\n",
    "    print(\"-------\")"
   ]
  },
  {
   "cell_type": "code",
   "execution_count": 19,
   "metadata": {},
   "outputs": [
    {
     "data": {
      "text/plain": [
       "<bound method DataFrame.info of      Followers  Average_Likes  Average_Comments  Average_Engagement_Rate  \\\n",
       "0       218468        6260.41             65.48                   2.8997   \n",
       "1       165436         313.86              4.71                   0.1926   \n",
       "3       179537        1005.04             11.01                   0.5659   \n",
       "4       948482       21008.08            803.88                   2.2997   \n",
       "5       123017        6343.21             43.83                   5.1920   \n",
       "..         ...            ...               ...                      ...   \n",
       "137     681344       21513.17            392.23                   3.2150   \n",
       "138     220351        4204.33             43.67                   1.9278   \n",
       "139     452619       11435.49             93.53                   2.5472   \n",
       "140     170325       31037.03            409.90                  18.4629   \n",
       "141     106343        7593.50            121.86                   7.2552   \n",
       "\n",
       "     Engagement_Rate_(60_Days)  Posting_frequency_(last_60_days)  \\\n",
       "0                       1.5104                                74   \n",
       "1                       0.1312                                 1   \n",
       "3                       0.2862                                 6   \n",
       "4                       3.2122                                40   \n",
       "5                       2.1932                                 5   \n",
       "..                         ...                               ...   \n",
       "137                    14.7793                                56   \n",
       "138                     0.2979                                 1   \n",
       "139                     1.5154                                30   \n",
       "140                     0.0000                                 0   \n",
       "141                     5.9930                                 6   \n",
       "\n",
       "     Posts_(image)  Posts_(videos)  Posts_(carousel)  \\\n",
       "0                0              74                 0   \n",
       "1                0               1                 0   \n",
       "3                5               1                 1   \n",
       "4                3              28                 9   \n",
       "5                0               2                 3   \n",
       "..             ...             ...               ...   \n",
       "137              2              45                 9   \n",
       "138              0               1                 0   \n",
       "139              4              25                 1   \n",
       "140              0               0                 0   \n",
       "141              1               1                 4   \n",
       "\n",
       "     Average_Hashtags_/_Post_(60_Days)  \n",
       "0                                1.392  \n",
       "1                                0.000  \n",
       "3                                0.000  \n",
       "4                                1.300  \n",
       "5                                1.000  \n",
       "..                                 ...  \n",
       "137                              1.125  \n",
       "138                              9.000  \n",
       "139                              3.733  \n",
       "140                              0.000  \n",
       "141                              0.167  \n",
       "\n",
       "[138 rows x 10 columns]>"
      ]
     },
     "execution_count": 19,
     "metadata": {},
     "output_type": "execute_result"
    }
   ],
   "source": [
    "df.info"
   ]
  },
  {
   "cell_type": "code",
   "execution_count": 15,
   "metadata": {},
   "outputs": [],
   "source": [
    "df = df.drop(columns=['Username'])"
   ]
  },
  {
   "cell_type": "code",
   "execution_count": 18,
   "metadata": {},
   "outputs": [],
   "source": [
    "df = df.drop(columns=['Hashtags_(dictionary)'])"
   ]
  },
  {
   "cell_type": "code",
   "execution_count": 1,
   "metadata": {},
   "outputs": [
    {
     "ename": "NameError",
     "evalue": "name 'df' is not defined",
     "output_type": "error",
     "traceback": [
      "\u001b[1;31m---------------------------------------------------------------------------\u001b[0m",
      "\u001b[1;31mNameError\u001b[0m                                 Traceback (most recent call last)",
      "Cell \u001b[1;32mIn[1], line 1\u001b[0m\n\u001b[1;32m----> 1\u001b[0m \u001b[43mdf\u001b[49m\u001b[38;5;241m.\u001b[39misnull()\u001b[38;5;241m.\u001b[39msum()\n",
      "\u001b[1;31mNameError\u001b[0m: name 'df' is not defined"
     ]
    }
   ],
   "source": [
    "df.isnull().sum()"
   ]
  },
  {
   "cell_type": "code",
   "execution_count": 20,
   "metadata": {},
   "outputs": [],
   "source": [
    "df.to_csv('macro_global_cleaned.csv', index=False)"
   ]
  }
 ],
 "metadata": {
  "kernelspec": {
   "display_name": "Python 3",
   "language": "python",
   "name": "python3"
  },
  "language_info": {
   "codemirror_mode": {
    "name": "ipython",
    "version": 3
   },
   "file_extension": ".py",
   "mimetype": "text/x-python",
   "name": "python",
   "nbconvert_exporter": "python",
   "pygments_lexer": "ipython3",
   "version": "3.11.5"
  }
 },
 "nbformat": 4,
 "nbformat_minor": 2
}
