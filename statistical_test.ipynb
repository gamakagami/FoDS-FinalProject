{
 "cells": [
  {
   "cell_type": "code",
   "execution_count": 1,
   "metadata": {},
   "outputs": [],
   "source": [
    "import pandas as pd\n",
    "import numpy as np\n",
    "import matplotlib.pyplot as plt\n",
    "import seaborn as sns\n",
    "import ast\n",
    "plt.style.use('ggplot')\n",
    "pd.set_option('display.max_columns', 200)\n",
    "\n",
    "df = pd.read_csv('merged_z5.csv', encoding='latin1')"
   ]
  },
  {
   "cell_type": "code",
   "execution_count": 2,
   "metadata": {},
   "outputs": [
    {
     "name": "stdout",
     "output_type": "stream",
     "text": [
      "Pearson Correlation: 0.2286398943688465, p-value: 2.1195395286744633e-12\n",
      "Reject the null hypothesis: There is a significant relationship between Average Likes and Engagement Rate.\n"
     ]
    }
   ],
   "source": [
    "from scipy.stats import pearsonr\n",
    "\n",
    "# Assuming 'Average_Likes' and 'Average_Engagement_Rate' are columns in your dataset\n",
    "corr, p = pearsonr(df['Average_Likes'], df['Average_Engagement_Rate'])\n",
    "\n",
    "print(f\"Pearson Correlation: {corr}, p-value: {p}\")\n",
    "\n",
    "if p < 0.05:\n",
    "    print(\"Reject the null hypothesis: There is a significant relationship between Average Likes and Engagement Rate.\")\n",
    "else:\n",
    "    print(\"Fail to reject the null hypothesis: No significant relationship.\")\n"
   ]
  },
  {
   "cell_type": "code",
   "execution_count": 3,
   "metadata": {},
   "outputs": [
    {
     "name": "stdout",
     "output_type": "stream",
     "text": [
      "Spearman Correlation: 0.20790619019460516, p-value: 1.839566304675373e-10\n",
      "Reject the null hypothesis: There is a significant relationship between Average Likes and Engagement Rate.\n"
     ]
    }
   ],
   "source": [
    "from scipy.stats import spearmanr\n",
    "\n",
    "corr, p = spearmanr(df['Average_Likes'], df['Average_Engagement_Rate'])\n",
    "print(f\"Spearman Correlation: {corr}, p-value: {p}\")\n",
    "\n",
    "if p < 0.05:\n",
    "    print(\"Reject the null hypothesis: There is a significant relationship between Average Likes and Engagement Rate.\")\n",
    "else:\n",
    "    print(\"Fail to reject the null hypothesis: No significant relationship.\")"
   ]
  },
  {
   "cell_type": "code",
   "execution_count": 4,
   "metadata": {},
   "outputs": [
    {
     "name": "stdout",
     "output_type": "stream",
     "text": [
      "Kendall's Tau: 0.1480610021852201, p-value: 1.6871536539164292e-11\n",
      "Reject the null hypothesis: There is a significant relationship between Average Likes and Engagement Rate.\n"
     ]
    }
   ],
   "source": [
    "from scipy.stats import kendalltau\n",
    "\n",
    "corr, p = kendalltau(df['Average_Likes'], df['Average_Engagement_Rate'])\n",
    "print(f\"Kendall's Tau: {corr}, p-value: {p}\")\n",
    "\n",
    "\n",
    "if p < 0.05:\n",
    "    print(\"Reject the null hypothesis: There is a significant relationship between Average Likes and Engagement Rate.\")\n",
    "else:\n",
    "    print(\"Fail to reject the null hypothesis: No significant relationship.\")"
   ]
  }
 ],
 "metadata": {
  "kernelspec": {
   "display_name": "Python 3",
   "language": "python",
   "name": "python3"
  },
  "language_info": {
   "codemirror_mode": {
    "name": "ipython",
    "version": 3
   },
   "file_extension": ".py",
   "mimetype": "text/x-python",
   "name": "python",
   "nbconvert_exporter": "python",
   "pygments_lexer": "ipython3",
   "version": "3.11.5"
  }
 },
 "nbformat": 4,
 "nbformat_minor": 2
}
