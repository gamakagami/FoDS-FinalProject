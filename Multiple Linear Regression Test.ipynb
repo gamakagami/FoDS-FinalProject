{
 "cells": [
  {
   "cell_type": "code",
   "execution_count": 6,
   "metadata": {},
   "outputs": [
    {
     "name": "stdout",
     "output_type": "stream",
     "text": [
      "Based on the results, variables followers, average likes, average comments, and the average engagement rate the past 60 days have a significant \n",
      "influence on the average engagement rate, as the p value <= 0.05\n",
      "\n",
      "                               OLS Regression Results                              \n",
      "===================================================================================\n",
      "Dep. Variable:     Average_Engagement_Rate   R-squared:                       0.626\n",
      "Model:                                 OLS   Adj. R-squared:                  0.623\n",
      "Method:                      Least Squares   F-statistic:                     171.4\n",
      "Date:                     Tue, 17 Dec 2024   Prob (F-statistic):          7.57e-190\n",
      "Time:                             08:01:55   Log-Likelihood:                -3107.9\n",
      "No. Observations:                      930   AIC:                             6236.\n",
      "Df Residuals:                          920   BIC:                             6284.\n",
      "Df Model:                                9                                         \n",
      "Covariance Type:                 nonrobust                                         \n",
      "===================================================================================================\n",
      "                                      coef    std err          t      P>|t|      [0.025      0.975]\n",
      "---------------------------------------------------------------------------------------------------\n",
      "const                               3.4169      0.293     11.660      0.000       2.842       3.992\n",
      "Followers                       -3.213e-08   6.56e-09     -4.899      0.000    -4.5e-08   -1.93e-08\n",
      "Average_Likes                    1.629e-06   2.68e-07      6.082      0.000     1.1e-06    2.15e-06\n",
      "Average_Comments                -5.939e-05   4.56e-05     -1.303      0.193      -0.000    3.01e-05\n",
      "Average_Engagement_Rate(60Days)     0.2809      0.007     38.176      0.000       0.266       0.295\n",
      "Posting_Frequency(60Days)          -0.0462      0.180     -0.256      0.798      -0.400       0.308\n",
      "Posts(Image)                        0.0456      0.181      0.252      0.801      -0.309       0.400\n",
      "Posts(Video)                        0.0427      0.181      0.236      0.813      -0.312       0.398\n",
      "Posts(Carousel)                     0.0419      0.180      0.232      0.816      -0.312       0.396\n",
      "Average_Hashtags(60Days)           -0.0375      0.043     -0.879      0.380      -0.121       0.046\n",
      "==============================================================================\n",
      "Omnibus:                     1073.093   Durbin-Watson:                   2.044\n",
      "Prob(Omnibus):                  0.000   Jarque-Bera (JB):           529200.065\n",
      "Skew:                           4.972   Prob(JB):                         0.00\n",
      "Kurtosis:                     119.438   Cond. No.                     7.79e+07\n",
      "==============================================================================\n",
      "\n",
      "Notes:\n",
      "[1] Standard Errors assume that the covariance matrix of the errors is correctly specified.\n",
      "[2] The condition number is large, 7.79e+07. This might indicate that there are\n",
      "strong multicollinearity or other numerical problems.\n"
     ]
    }
   ],
   "source": [
    "import statsmodels.api as sm\n",
    "import pandas as pd\n",
    "\n",
    "df = pd.read_csv(\"merged_cleaned.csv\")\n",
    "\n",
    "Y = df[\"Average_Engagement_Rate\"]\n",
    "\n",
    "X = df.drop(\"Average_Engagement_Rate\", axis=1)\n",
    "X = sm.add_constant(X)  \n",
    "\n",
    "model = sm.OLS(Y, X).fit()\n",
    "\n",
    "print(\"Based on the results, variables followers, average likes, average comments, and the average engagement rate the past 60 days have a significant \\ninfluence on the average engagement rate, as the p value <= 0.05\\n\")\n",
    "print(model.summary())"
   ]
  }
 ],
 "metadata": {
  "kernelspec": {
   "display_name": "Python 3",
   "language": "python",
   "name": "python3"
  },
  "language_info": {
   "codemirror_mode": {
    "name": "ipython",
    "version": 3
   },
   "file_extension": ".py",
   "mimetype": "text/x-python",
   "name": "python",
   "nbconvert_exporter": "python",
   "pygments_lexer": "ipython3",
   "version": "3.12.0"
  }
 },
 "nbformat": 4,
 "nbformat_minor": 2
}
