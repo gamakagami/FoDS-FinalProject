{
 "cells": [
  {
   "cell_type": "code",
   "execution_count": 1,
   "metadata": {},
   "outputs": [],
   "source": [
    "import pandas as pd\n",
    "import numpy as np\n",
    "import matplotlib.pyplot as plt\n",
    "import seaborn as sns\n",
    "import ast\n",
    "plt.style.use('ggplot')\n",
    "pd.set_option('display.max_columns', 200)\n",
    "\n",
    "df = pd.read_csv('merged_cleaned.csv', encoding='latin1')"
   ]
  },
  {
   "cell_type": "code",
   "execution_count": 2,
   "metadata": {},
   "outputs": [],
   "source": [
    "numeric_cols = df.select_dtypes(include=['float64', 'int64']).columns"
   ]
  },
  {
   "cell_type": "code",
   "execution_count": 3,
   "metadata": {},
   "outputs": [
    {
     "name": "stdout",
     "output_type": "stream",
     "text": [
      "Followers: Number of outliers = 21\n",
      "Average_Likes: Number of outliers = 20\n",
      "Average_Comments: Number of outliers = 22\n",
      "Average_Engagement_Rate: Number of outliers = 7\n",
      "Engagement_Rate_(60_Days): Number of outliers = 4\n",
      "Posting_frequency_(last_60_days): Number of outliers = 15\n",
      "Posts_(image): Number of outliers = 14\n",
      "Posts_(videos): Number of outliers = 14\n",
      "Posts_(carousel): Number of outliers = 8\n",
      "Average_Hashtags_/_Post_(60_Days): Number of outliers = 30\n"
     ]
    }
   ],
   "source": [
    "from scipy.stats import zscore\n",
    "\n",
    "# Calculate Z-scores for numeric columns\n",
    "z_scores = df[numeric_cols].apply(zscore)\n",
    "\n",
    "# Count outliers based on Z-scores\n",
    "for col in z_scores.columns:\n",
    "    num_outliers = (z_scores[col].abs() > 3).sum()  # Count rows with Z > 3 or Z < -3\n",
    "    print(f'{col}: Number of outliers = {num_outliers}')\n"
   ]
  },
  {
   "cell_type": "code",
   "execution_count": 5,
   "metadata": {},
   "outputs": [],
   "source": [
    "from scipy.stats import zscore\n",
    "\n",
    "# Specify the columns to remove outliers from\n",
    "columns_to_clean = ['Average_Engagement_Rate', 'Engagement_Rate_(60_Days)']\n",
    "\n",
    "# Calculate Z-scores for the specified columns\n",
    "z_scores = df[columns_to_clean].apply(zscore)\n",
    "\n",
    "# Create a mask to filter out rows where the Z-score for any column is > 3 or < -3\n",
    "mask = (abs(z_scores) <= 3).all(axis=1)\n",
    "\n",
    "# Create a new DataFrame with outliers removed based on the two columns\n",
    "df_cleaned_z2 = df[mask]"
   ]
  },
  {
   "cell_type": "code",
   "execution_count": 6,
   "metadata": {},
   "outputs": [
    {
     "data": {
      "text/plain": [
       "(922, 10)"
      ]
     },
     "execution_count": 6,
     "metadata": {},
     "output_type": "execute_result"
    }
   ],
   "source": [
    "df_cleaned_z2.shape"
   ]
  },
  {
   "cell_type": "code",
   "execution_count": 7,
   "metadata": {},
   "outputs": [],
   "source": [
    "df_cleaned_z5 = df_cleaned_z2.drop('Average_Hashtags_/_Post_(60_Days)', axis=1)"
   ]
  },
  {
   "cell_type": "code",
   "execution_count": 8,
   "metadata": {},
   "outputs": [
    {
     "data": {
      "text/plain": [
       "(922, 9)"
      ]
     },
     "execution_count": 8,
     "metadata": {},
     "output_type": "execute_result"
    }
   ],
   "source": [
    "df_cleaned_z5.shape"
   ]
  }
 ],
 "metadata": {
  "kernelspec": {
   "display_name": "Python 3",
   "language": "python",
   "name": "python3"
  },
  "language_info": {
   "codemirror_mode": {
    "name": "ipython",
    "version": 3
   },
   "file_extension": ".py",
   "mimetype": "text/x-python",
   "name": "python",
   "nbconvert_exporter": "python",
   "pygments_lexer": "ipython3",
   "version": "3.11.5"
  }
 },
 "nbformat": 4,
 "nbformat_minor": 2
}
