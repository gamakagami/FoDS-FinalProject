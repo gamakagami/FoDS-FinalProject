{
 "cells": [
  {
   "cell_type": "code",
   "execution_count": 35,
   "metadata": {},
   "outputs": [
    {
     "name": "stdout",
     "output_type": "stream",
     "text": [
      "                    Generalized Linear Model Regression Results                    \n",
      "===================================================================================\n",
      "Dep. Variable:     Average_Engagement_Rate   No. Observations:                  922\n",
      "Model:                                 GLM   Df Residuals:                      913\n",
      "Model Family:                      Poisson   Df Model:                            8\n",
      "Link Function:                         Log   Scale:                          1.0000\n",
      "Method:                               IRLS   Log-Likelihood:                -2466.0\n",
      "Date:                     Tue, 17 Dec 2024   Deviance:                       2522.8\n",
      "Time:                             08:38:32   Pearson chi2:                 4.05e+03\n",
      "No. Iterations:                          6   Pseudo R-squ. (CS):             0.8304\n",
      "Covariance Type:                 nonrobust                                         \n",
      "====================================================================================================\n",
      "                                       coef    std err          z      P>|z|      [0.025      0.975]\n",
      "----------------------------------------------------------------------------------------------------\n",
      "const                                1.2003      0.024     50.548      0.000       1.154       1.247\n",
      "Followers                        -8.135e-09    8.4e-10     -9.683      0.000   -9.78e-09   -6.49e-09\n",
      "Average_Likes                     9.693e-08   7.77e-09     12.479      0.000    8.17e-08    1.12e-07\n",
      "Average_Comments                  1.425e-05      2e-06      7.141      0.000    1.03e-05    1.82e-05\n",
      "Engagement_Rate_(60_Days)            0.0540      0.001     37.026      0.000       0.051       0.057\n",
      "Posting_frequency_(last_60_days)    -0.0062      0.019     -0.328      0.743      -0.043       0.031\n",
      "Posts_(image)                        0.0061      0.019      0.321      0.748      -0.031       0.043\n",
      "Posts_(videos)                       0.0031      0.019      0.163      0.870      -0.034       0.040\n",
      "Posts_(carousel)                    -0.0003      0.019     -0.016      0.987      -0.038       0.037\n",
      "====================================================================================================\n"
     ]
    }
   ],
   "source": [
    "import statsmodels.api as sm\n",
    "import pandas as pd\n",
    "\n",
    "df = pd.read_csv(\"merged_z5.csv\")\n",
    "\n",
    "X = df.drop(\"Average_Engagement_Rate\", axis=1)\n",
    "Y = df[\"Average_Engagement_Rate\"].apply(lambda x: round(x))  # Converting to count data if applicable\n",
    "\n",
    "X = sm.add_constant(X)\n",
    "\n",
    "model = sm.GLM(Y, X, family=sm.families.Poisson()).fit()\n",
    "\n",
    "print(model.summary())  # Displays the summary with p-values, coefficients, etc.\n"
   ]
  }
 ],
 "metadata": {
  "kernelspec": {
   "display_name": "Python 3",
   "language": "python",
   "name": "python3"
  },
  "language_info": {
   "codemirror_mode": {
    "name": "ipython",
    "version": 3
   },
   "file_extension": ".py",
   "mimetype": "text/x-python",
   "name": "python",
   "nbconvert_exporter": "python",
   "pygments_lexer": "ipython3",
   "version": "3.12.0"
  }
 },
 "nbformat": 4,
 "nbformat_minor": 2
}
